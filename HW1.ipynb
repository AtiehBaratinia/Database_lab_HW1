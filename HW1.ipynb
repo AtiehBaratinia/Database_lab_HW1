{
 "cells": [
  {
   "cell_type": "code",
   "execution_count": 18,
   "id": "f021b6a1",
   "metadata": {},
   "outputs": [
    {
     "name": "stdout",
     "output_type": "stream",
     "text": [
      "Database created successfully........\n"
     ]
    }
   ],
   "source": [
    "import psycopg2\n",
    "\n",
    "#establishing the connection\n",
    "conn = psycopg2.connect(\n",
    "   user='postgres', password='1', host='127.0.0.1', port= '5432'\n",
    ")\n",
    "conn.autocommit = True\n",
    "#Creating a cursor object using the cursor() method\n",
    "cursor = conn.cursor()\n",
    "\n",
    "#Preparing query to create a database\n",
    "sql = 'create database Atieh';\n",
    "\n",
    "#Creating a database\n",
    "cursor.execute(sql)\n",
    "print(\"Database created successfully........\")\n",
    "conn.close()\n"
   ]
  },
  {
   "cell_type": "code",
   "execution_count": null,
   "id": "8bdf8618",
   "metadata": {},
   "outputs": [],
   "source": []
  },
  {
   "cell_type": "code",
   "execution_count": 9,
   "id": "a874dfba",
   "metadata": {},
   "outputs": [
    {
     "name": "stdout",
     "output_type": "stream",
     "text": [
      "Table created successfully........\n"
     ]
    }
   ],
   "source": [
    "#establishing the connection\n",
    "conn = psycopg2.connect(\n",
    "   database='atieh', user='postgres', password='1', host='127.0.0.1', port= '5432'\n",
    ")\n",
    "cursor = conn.cursor()\n",
    "#Creating table as per requirement\n",
    "sql ='''CREATE TABLE Student(\n",
    "   ID INTEGER PRIMARY KEY,\n",
    "   FIRST_NAME varCHAR(20) NOT NULL,\n",
    "   LAST_NAME varCHAR(20)  NOT NULL,\n",
    "   BIRTH_YEAR SMALLINT,\n",
    "   SEX CHAR(1)\n",
    ");'''\n",
    "cursor.execute(sql)\n",
    "print(\"Table created successfully........\")\n",
    "conn.commit()\n"
   ]
  },
  {
   "cell_type": "code",
   "execution_count": 7,
   "id": "b4b2c681",
   "metadata": {},
   "outputs": [
    {
     "name": "stdout",
     "output_type": "stream",
     "text": [
      "Table created successfully........\n"
     ]
    }
   ],
   "source": [
    "#establishing the connection\n",
    "conn = psycopg2.connect(\n",
    "   database='atieh', user='postgres', password='1', host='127.0.0.1', port= '5432'\n",
    ")\n",
    "cursor = conn.cursor()\n",
    "#Creating table as per requirement\n",
    "sql ='''drop table student;\n",
    "'''\n",
    "cursor.execute(sql)\n",
    "print(\"Table created successfully........\")\n",
    "conn.commit()\n"
   ]
  },
  {
   "cell_type": "code",
   "execution_count": null,
   "id": "db81b766",
   "metadata": {},
   "outputs": [],
   "source": []
  }
 ],
 "metadata": {
  "kernelspec": {
   "display_name": "Python 3 (ipykernel)",
   "language": "python",
   "name": "python3"
  },
  "language_info": {
   "codemirror_mode": {
    "name": "ipython",
    "version": 3
   },
   "file_extension": ".py",
   "mimetype": "text/x-python",
   "name": "python",
   "nbconvert_exporter": "python",
   "pygments_lexer": "ipython3",
   "version": "3.9.5"
  }
 },
 "nbformat": 4,
 "nbformat_minor": 5
}
